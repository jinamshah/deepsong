{
  "nbformat": 4,
  "nbformat_minor": 0,
  "metadata": {
    "colab": {
      "name": "jukebox-test1.ipynb",
      "provenance": [],
      "authorship_tag": "ABX9TyPe13PVydG7ciHoFWMsSH2M",
      "include_colab_link": true
    },
    "kernelspec": {
      "name": "python3",
      "display_name": "Python 3"
    },
    "language_info": {
      "name": "python"
    },
    "accelerator": "GPU"
  },
  "cells": [
    {
      "cell_type": "markdown",
      "metadata": {
        "id": "view-in-github",
        "colab_type": "text"
      },
      "source": [
        "<a href=\"https://colab.research.google.com/github/jinamshah/deepsong/blob/master/jukebox_test1.ipynb\" target=\"_parent\"><img src=\"https://colab.research.google.com/assets/colab-badge.svg\" alt=\"Open In Colab\"/></a>"
      ]
    },
    {
      "cell_type": "code",
      "metadata": {
        "colab": {
          "base_uri": "https://localhost:8080/"
        },
        "id": "7CTFsaIarXSP",
        "outputId": "101a859e-bb40-4751-a485-5f34eae4724d"
      },
      "source": [
        "!pip3 install git+https://github.com/openai/jukebox.git"
      ],
      "execution_count": 14,
      "outputs": [
        {
          "output_type": "stream",
          "text": [
            "Collecting git+https://github.com/openai/jukebox.git\n",
            "  Cloning https://github.com/openai/jukebox.git to /tmp/pip-req-build-sa024tul\n",
            "  Running command git clone -q https://github.com/openai/jukebox.git /tmp/pip-req-build-sa024tul\n",
            "Requirement already satisfied (use --upgrade to upgrade): jukebox==1.0 from git+https://github.com/openai/jukebox.git in /usr/local/lib/python3.7/dist-packages\n",
            "Requirement already satisfied: fire==0.1.3 in /usr/local/lib/python3.7/dist-packages (from jukebox==1.0) (0.1.3)\n",
            "Requirement already satisfied: tqdm==4.45.0 in /usr/local/lib/python3.7/dist-packages (from jukebox==1.0) (4.45.0)\n",
            "Requirement already satisfied: soundfile==0.10.3.post1 in /usr/local/lib/python3.7/dist-packages (from jukebox==1.0) (0.10.3.post1)\n",
            "Requirement already satisfied: unidecode==1.1.1 in /usr/local/lib/python3.7/dist-packages (from jukebox==1.0) (1.1.1)\n",
            "Requirement already satisfied: numba==0.48.0 in /usr/local/lib/python3.7/dist-packages (from jukebox==1.0) (0.48.0)\n",
            "Requirement already satisfied: librosa==0.7.2 in /usr/local/lib/python3.7/dist-packages (from jukebox==1.0) (0.7.2)\n",
            "Requirement already satisfied: mpi4py>=3.0.0 in /usr/local/lib/python3.7/dist-packages (from jukebox==1.0) (3.0.3)\n",
            "Requirement already satisfied: six in /usr/local/lib/python3.7/dist-packages (from fire==0.1.3->jukebox==1.0) (1.15.0)\n",
            "Requirement already satisfied: cffi>=1.0 in /usr/local/lib/python3.7/dist-packages (from soundfile==0.10.3.post1->jukebox==1.0) (1.14.5)\n",
            "Requirement already satisfied: llvmlite<0.32.0,>=0.31.0dev0 in /usr/local/lib/python3.7/dist-packages (from numba==0.48.0->jukebox==1.0) (0.31.0)\n",
            "Requirement already satisfied: numpy>=1.15 in /usr/local/lib/python3.7/dist-packages (from numba==0.48.0->jukebox==1.0) (1.19.5)\n",
            "Requirement already satisfied: setuptools in /usr/local/lib/python3.7/dist-packages (from numba==0.48.0->jukebox==1.0) (54.1.2)\n",
            "Requirement already satisfied: scikit-learn!=0.19.0,>=0.14.0 in /usr/local/lib/python3.7/dist-packages (from librosa==0.7.2->jukebox==1.0) (0.22.2.post1)\n",
            "Requirement already satisfied: joblib>=0.12 in /usr/local/lib/python3.7/dist-packages (from librosa==0.7.2->jukebox==1.0) (1.0.1)\n",
            "Requirement already satisfied: resampy>=0.2.2 in /usr/local/lib/python3.7/dist-packages (from librosa==0.7.2->jukebox==1.0) (0.2.2)\n",
            "Requirement already satisfied: scipy>=1.0.0 in /usr/local/lib/python3.7/dist-packages (from librosa==0.7.2->jukebox==1.0) (1.4.1)\n",
            "Requirement already satisfied: decorator>=3.0.0 in /usr/local/lib/python3.7/dist-packages (from librosa==0.7.2->jukebox==1.0) (4.4.2)\n",
            "Requirement already satisfied: audioread>=2.0.0 in /usr/local/lib/python3.7/dist-packages (from librosa==0.7.2->jukebox==1.0) (2.1.9)\n",
            "Requirement already satisfied: pycparser in /usr/local/lib/python3.7/dist-packages (from cffi>=1.0->soundfile==0.10.3.post1->jukebox==1.0) (2.20)\n",
            "Building wheels for collected packages: jukebox\n",
            "  Building wheel for jukebox (setup.py) ... \u001b[?25l\u001b[?25hdone\n",
            "  Created wheel for jukebox: filename=jukebox-1.0-cp37-none-any.whl size=197908 sha256=e8522e84e5f44fc7cb7f80f0a0c86302307d8a76d6defa05dfbc4ad30f10fbda\n",
            "  Stored in directory: /tmp/pip-ephem-wheel-cache-la5ocdgs/wheels/bd/b6/f9/ad38a67dd989a522bbe6677e95efbc4607cdcf71e7249485fe\n",
            "Successfully built jukebox\n"
          ],
          "name": "stdout"
        }
      ]
    },
    {
      "cell_type": "code",
      "metadata": {
        "colab": {
          "base_uri": "https://localhost:8080/"
        },
        "id": "DVPkACCR0PII",
        "outputId": "55e8eaed-cc1d-47dd-e8bb-813dfbad24c9"
      },
      "source": [
        "!pip3 install av"
      ],
      "execution_count": 15,
      "outputs": [
        {
          "output_type": "stream",
          "text": [
            "Collecting av\n",
            "\u001b[?25l  Downloading https://files.pythonhosted.org/packages/66/ff/bacde7314c646a2bd2f240034809a10cc3f8b096751284d0828640fff3dd/av-8.0.3-cp37-cp37m-manylinux2010_x86_64.whl (37.2MB)\n",
            "\u001b[K     |████████████████████████████████| 37.2MB 79kB/s \n",
            "\u001b[?25hInstalling collected packages: av\n",
            "Successfully installed av-8.0.3\n"
          ],
          "name": "stdout"
        }
      ]
    },
    {
      "cell_type": "code",
      "metadata": {
        "colab": {
          "base_uri": "https://localhost:8080/"
        },
        "id": "FeeTTNQR0TVN",
        "outputId": "dc725f30-c78d-4b3b-eb71-4d6b3fa79098"
      },
      "source": [
        "!pip3 install -r /content/jukebox/requirements.txt"
      ],
      "execution_count": 16,
      "outputs": [
        {
          "output_type": "stream",
          "text": [
            "Requirement already satisfied: fire==0.1.3 in /usr/local/lib/python3.7/dist-packages (from -r /content/jukebox/requirements.txt (line 1)) (0.1.3)\n",
            "Requirement already satisfied: tqdm==4.45.0 in /usr/local/lib/python3.7/dist-packages (from -r /content/jukebox/requirements.txt (line 2)) (4.45.0)\n",
            "Requirement already satisfied: soundfile==0.10.3.post1 in /usr/local/lib/python3.7/dist-packages (from -r /content/jukebox/requirements.txt (line 3)) (0.10.3.post1)\n",
            "Requirement already satisfied: unidecode==1.1.1 in /usr/local/lib/python3.7/dist-packages (from -r /content/jukebox/requirements.txt (line 4)) (1.1.1)\n",
            "Requirement already satisfied: numba==0.48.0 in /usr/local/lib/python3.7/dist-packages (from -r /content/jukebox/requirements.txt (line 5)) (0.48.0)\n",
            "Requirement already satisfied: librosa==0.7.2 in /usr/local/lib/python3.7/dist-packages (from -r /content/jukebox/requirements.txt (line 6)) (0.7.2)\n",
            "Requirement already satisfied: mpi4py>=3.0.0 in /usr/local/lib/python3.7/dist-packages (from -r /content/jukebox/requirements.txt (line 7)) (3.0.3)\n",
            "Requirement already satisfied: six in /usr/local/lib/python3.7/dist-packages (from fire==0.1.3->-r /content/jukebox/requirements.txt (line 1)) (1.15.0)\n",
            "Requirement already satisfied: cffi>=1.0 in /usr/local/lib/python3.7/dist-packages (from soundfile==0.10.3.post1->-r /content/jukebox/requirements.txt (line 3)) (1.14.5)\n",
            "Requirement already satisfied: numpy>=1.15 in /usr/local/lib/python3.7/dist-packages (from numba==0.48.0->-r /content/jukebox/requirements.txt (line 5)) (1.19.5)\n",
            "Requirement already satisfied: llvmlite<0.32.0,>=0.31.0dev0 in /usr/local/lib/python3.7/dist-packages (from numba==0.48.0->-r /content/jukebox/requirements.txt (line 5)) (0.31.0)\n",
            "Requirement already satisfied: setuptools in /usr/local/lib/python3.7/dist-packages (from numba==0.48.0->-r /content/jukebox/requirements.txt (line 5)) (54.1.2)\n",
            "Requirement already satisfied: resampy>=0.2.2 in /usr/local/lib/python3.7/dist-packages (from librosa==0.7.2->-r /content/jukebox/requirements.txt (line 6)) (0.2.2)\n",
            "Requirement already satisfied: audioread>=2.0.0 in /usr/local/lib/python3.7/dist-packages (from librosa==0.7.2->-r /content/jukebox/requirements.txt (line 6)) (2.1.9)\n",
            "Requirement already satisfied: joblib>=0.12 in /usr/local/lib/python3.7/dist-packages (from librosa==0.7.2->-r /content/jukebox/requirements.txt (line 6)) (1.0.1)\n",
            "Requirement already satisfied: scipy>=1.0.0 in /usr/local/lib/python3.7/dist-packages (from librosa==0.7.2->-r /content/jukebox/requirements.txt (line 6)) (1.4.1)\n",
            "Requirement already satisfied: decorator>=3.0.0 in /usr/local/lib/python3.7/dist-packages (from librosa==0.7.2->-r /content/jukebox/requirements.txt (line 6)) (4.4.2)\n",
            "Requirement already satisfied: scikit-learn!=0.19.0,>=0.14.0 in /usr/local/lib/python3.7/dist-packages (from librosa==0.7.2->-r /content/jukebox/requirements.txt (line 6)) (0.22.2.post1)\n",
            "Requirement already satisfied: pycparser in /usr/local/lib/python3.7/dist-packages (from cffi>=1.0->soundfile==0.10.3.post1->-r /content/jukebox/requirements.txt (line 3)) (2.20)\n"
          ],
          "name": "stdout"
        }
      ]
    },
    {
      "cell_type": "code",
      "metadata": {
        "colab": {
          "base_uri": "https://localhost:8080/"
        },
        "id": "m3GQ3LNS0H-S",
        "outputId": "4781833f-2398-4aa2-9af9-7fd01c4db97b"
      },
      "source": [
        "!which python3"
      ],
      "execution_count": 13,
      "outputs": [
        {
          "output_type": "stream",
          "text": [
            "/usr/bin/python3\n"
          ],
          "name": "stdout"
        }
      ]
    },
    {
      "cell_type": "code",
      "metadata": {
        "colab": {
          "base_uri": "https://localhost:8080/"
        },
        "id": "7Z1O1EeozvpP",
        "outputId": "e96cda07-02f7-417d-e2e4-ac3f4c69d84a"
      },
      "source": [
        "!git clone https://github.com/openai/jukebox.git"
      ],
      "execution_count": 7,
      "outputs": [
        {
          "output_type": "stream",
          "text": [
            "Cloning into 'jukebox'...\n",
            "remote: Enumerating objects: 928, done.\u001b[K\n",
            "remote: Total 928 (delta 0), reused 0 (delta 0), pack-reused 928\u001b[K\n",
            "Receiving objects: 100% (928/928), 2.74 MiB | 31.93 MiB/s, done.\n",
            "Resolving deltas: 100% (458/458), done.\n"
          ],
          "name": "stdout"
        }
      ]
    },
    {
      "cell_type": "code",
      "metadata": {
        "colab": {
          "base_uri": "https://localhost:8080/"
        },
        "id": "HQuvdokMxz6J",
        "outputId": "b0695ccf-2bb4-4d26-debe-9c31cc69d4a4"
      },
      "source": [
        "!nvidia-smi"
      ],
      "execution_count": 1,
      "outputs": [
        {
          "output_type": "stream",
          "text": [
            "Mon Mar 29 16:19:42 2021       \n",
            "+-----------------------------------------------------------------------------+\n",
            "| NVIDIA-SMI 460.56       Driver Version: 460.32.03    CUDA Version: 11.2     |\n",
            "|-------------------------------+----------------------+----------------------+\n",
            "| GPU  Name        Persistence-M| Bus-Id        Disp.A | Volatile Uncorr. ECC |\n",
            "| Fan  Temp  Perf  Pwr:Usage/Cap|         Memory-Usage | GPU-Util  Compute M. |\n",
            "|                               |                      |               MIG M. |\n",
            "|===============================+======================+======================|\n",
            "|   0  Tesla T4            Off  | 00000000:00:04.0 Off |                    0 |\n",
            "| N/A   67C    P8    12W /  70W |      0MiB / 15109MiB |      0%      Default |\n",
            "|                               |                      |                  N/A |\n",
            "+-------------------------------+----------------------+----------------------+\n",
            "                                                                               \n",
            "+-----------------------------------------------------------------------------+\n",
            "| Processes:                                                                  |\n",
            "|  GPU   GI   CI        PID   Type   Process name                  GPU Memory |\n",
            "|        ID   ID                                                   Usage      |\n",
            "|=============================================================================|\n",
            "|  No running processes found                                                 |\n",
            "+-----------------------------------------------------------------------------+\n"
          ],
          "name": "stdout"
        }
      ]
    },
    {
      "cell_type": "code",
      "metadata": {
        "id": "lg9UfEuA02sm"
      },
      "source": [
        "!PYTHONPATH=$PYTHONPATH:/content/jukebox"
      ],
      "execution_count": 18,
      "outputs": []
    },
    {
      "cell_type": "code",
      "metadata": {
        "colab": {
          "base_uri": "https://localhost:8080/"
        },
        "id": "cje_jF1Ox0dn",
        "outputId": "9978eaba-8fd6-4524-8fb1-391c5b85b8a8"
      },
      "source": [
        "!mpiexec --allow-run-as-root -n 1 python /content/jukebox/jukebox/train.py --hps=vqvae,small_prior,all_fp16,cpu_ema --name=pretrained_vqvae_small_prior \\\n",
        "--sample_length=1048576 --bs=4 --aug_shift --aug_blend --audio_files_dir=/content/train_data/ \\\n",
        "--labels=False --train --prior --levels=3 --level=2 --weight_decay=0.01 --save_iters=1000 "
      ],
      "execution_count": 22,
      "outputs": [
        {
          "output_type": "stream",
          "text": [
            "Using cuda True\n",
            "0: Found 1 files. Getting durations\n",
            "0: self.sr=44100, min: 24, max: inf\n",
            "0: Keeping 1 of 1 files\n",
            "WARNING:libav.wav:Estimating duration from bitrate, this may be inaccurate\n",
            "{'l2': 0.01484150052155187, 'l1': 0.08775293827056885, 'spec': 5591.37841796875}\n",
            "Creating Data Loader\n",
            "0: Train 2 samples. Test 1 samples\n",
            "0: Train sampler: <torch.utils.data.distributed.DistributedSampler object at 0x7f44dbc27890>\n",
            "0: Train loader: 0\n",
            "Downloading from azure\n",
            "Restored from /root/.cache/jukebox/models/5b/vqvae.pth.tar\n",
            "0: Loading vqvae in eval mode\n",
            "Parameters VQVAE:0\n",
            "Level:2, Cond downsample:None, Raw to tokens:128, Sample length:1048576\n",
            "0: Converting to fp16 params\n",
            "0: Loading prior in train mode\n",
            "Parameters Prior:161862656\n",
            "{'dynamic': True, 'loss_scale': 65536.0, 'max_loss_scale': 16777216.0, 'scale_factor': 1.0027764359010778, 'scale_window': 1, 'unskipped': 0, 'overflow': False}\n",
            "Using CPU EMA\n",
            "Logging to logs/pretrained_vqvae_small_prior\n",
            "0/0 [00:00<?, ?it/s]/usr/local/lib/python3.7/dist-packages/torch/utils/data/dataloader.py:477: UserWarning: This DataLoader will create 4 worker processes in total. Our suggested max number of worker in current system is 2, which is smaller than what this DataLoader is going to create. Please be aware that excessive worker creation might get DataLoader running slow or even freeze, lower the worker number to avoid potential slowness/freeze if necessary.\n",
            "  cpuset_checked))\n",
            "/usr/local/lib/python3.7/dist-packages/torch/utils/data/dataloader.py:477: UserWarning: This DataLoader will create 4 worker processes in total. Our suggested max number of worker in current system is 2, which is smaller than what this DataLoader is going to create. Please be aware that excessive worker creation might get DataLoader running slow or even freeze, lower the worker number to avoid potential slowness/freeze if necessary.\n",
            "  cpuset_checked))\n",
            "0/0 [00:00<?, ?it/s]\n",
            "Traceback (most recent call last):\n",
            "  File \"/content/jukebox/jukebox/train.py\", line 345, in <module>\n",
            "    fire.Fire(run)\n",
            "  File \"/usr/local/lib/python3.7/dist-packages/fire/core.py\", line 127, in Fire\n",
            "    component_trace = _Fire(component, args, context, name)\n",
            "  File \"/usr/local/lib/python3.7/dist-packages/fire/core.py\", line 366, in _Fire\n",
            "    component, remaining_args)\n",
            "  File \"/usr/local/lib/python3.7/dist-packages/fire/core.py\", line 542, in _CallCallable\n",
            "    result = fn(*varargs, **kwargs)\n",
            "  File \"/content/jukebox/jukebox/train.py\", line 328, in run\n",
            "    train_metrics = train(distributed_model, model, opt, shd, scalar, ema, logger, metrics, data_processor, hps)\n",
            "  File \"/content/jukebox/jukebox/train.py\", line 292, in train\n",
            "    return {key: metrics.avg(key) for key in _metrics.keys()}\n",
            "UnboundLocalError: local variable '_metrics' referenced before assignment\n",
            "-------------------------------------------------------\n",
            "Primary job  terminated normally, but 1 process returned\n",
            "a non-zero exit code.. Per user-direction, the job has been aborted.\n",
            "-------------------------------------------------------\n",
            "--------------------------------------------------------------------------\n",
            "mpiexec detected that one or more processes exited with non-zero status, thus causing\n",
            "the job to be terminated. The first process to do so was:\n",
            "\n",
            "  Process name: [[30538,1],0]\n",
            "  Exit code:    1\n",
            "--------------------------------------------------------------------------\n"
          ],
          "name": "stdout"
        }
      ]
    },
    {
      "cell_type": "code",
      "metadata": {
        "colab": {
          "base_uri": "https://localhost:8080/"
        },
        "id": "NwB4cLlFx0lX",
        "outputId": "758aa00b-4568-441f-876f-f3bcb93ecec3"
      },
      "source": [
        "!pip3 install tensorboardX"
      ],
      "execution_count": 20,
      "outputs": [
        {
          "output_type": "stream",
          "text": [
            "Collecting tensorboardX\n",
            "\u001b[?25l  Downloading https://files.pythonhosted.org/packages/af/0c/4f41bcd45db376e6fe5c619c01100e9b7531c55791b7244815bac6eac32c/tensorboardX-2.1-py2.py3-none-any.whl (308kB)\n",
            "\r\u001b[K     |█                               | 10kB 24.2MB/s eta 0:00:01\r\u001b[K     |██▏                             | 20kB 14.5MB/s eta 0:00:01\r\u001b[K     |███▏                            | 30kB 12.7MB/s eta 0:00:01\r\u001b[K     |████▎                           | 40kB 12.1MB/s eta 0:00:01\r\u001b[K     |█████▎                          | 51kB 8.0MB/s eta 0:00:01\r\u001b[K     |██████▍                         | 61kB 8.6MB/s eta 0:00:01\r\u001b[K     |███████▍                        | 71kB 8.6MB/s eta 0:00:01\r\u001b[K     |████████▌                       | 81kB 8.8MB/s eta 0:00:01\r\u001b[K     |█████████▌                      | 92kB 7.9MB/s eta 0:00:01\r\u001b[K     |██████████▋                     | 102kB 7.7MB/s eta 0:00:01\r\u001b[K     |███████████▊                    | 112kB 7.7MB/s eta 0:00:01\r\u001b[K     |████████████▊                   | 122kB 7.7MB/s eta 0:00:01\r\u001b[K     |█████████████▉                  | 133kB 7.7MB/s eta 0:00:01\r\u001b[K     |██████████████▉                 | 143kB 7.7MB/s eta 0:00:01\r\u001b[K     |████████████████                | 153kB 7.7MB/s eta 0:00:01\r\u001b[K     |█████████████████               | 163kB 7.7MB/s eta 0:00:01\r\u001b[K     |██████████████████              | 174kB 7.7MB/s eta 0:00:01\r\u001b[K     |███████████████████             | 184kB 7.7MB/s eta 0:00:01\r\u001b[K     |████████████████████▏           | 194kB 7.7MB/s eta 0:00:01\r\u001b[K     |█████████████████████▎          | 204kB 7.7MB/s eta 0:00:01\r\u001b[K     |██████████████████████▎         | 215kB 7.7MB/s eta 0:00:01\r\u001b[K     |███████████████████████▍        | 225kB 7.7MB/s eta 0:00:01\r\u001b[K     |████████████████████████▍       | 235kB 7.7MB/s eta 0:00:01\r\u001b[K     |█████████████████████████▌      | 245kB 7.7MB/s eta 0:00:01\r\u001b[K     |██████████████████████████▌     | 256kB 7.7MB/s eta 0:00:01\r\u001b[K     |███████████████████████████▋    | 266kB 7.7MB/s eta 0:00:01\r\u001b[K     |████████████████████████████▋   | 276kB 7.7MB/s eta 0:00:01\r\u001b[K     |█████████████████████████████▊  | 286kB 7.7MB/s eta 0:00:01\r\u001b[K     |██████████████████████████████▊ | 296kB 7.7MB/s eta 0:00:01\r\u001b[K     |███████████████████████████████▉| 307kB 7.7MB/s eta 0:00:01\r\u001b[K     |████████████████████████████████| 317kB 7.7MB/s \n",
            "\u001b[?25hRequirement already satisfied: protobuf>=3.8.0 in /usr/local/lib/python3.7/dist-packages (from tensorboardX) (3.12.4)\n",
            "Requirement already satisfied: six in /usr/local/lib/python3.7/dist-packages (from tensorboardX) (1.15.0)\n",
            "Requirement already satisfied: numpy in /usr/local/lib/python3.7/dist-packages (from tensorboardX) (1.19.5)\n",
            "Requirement already satisfied: setuptools in /usr/local/lib/python3.7/dist-packages (from protobuf>=3.8.0->tensorboardX) (54.1.2)\n",
            "Installing collected packages: tensorboardX\n",
            "Successfully installed tensorboardX-2.1\n"
          ],
          "name": "stdout"
        }
      ]
    }
  ]
}